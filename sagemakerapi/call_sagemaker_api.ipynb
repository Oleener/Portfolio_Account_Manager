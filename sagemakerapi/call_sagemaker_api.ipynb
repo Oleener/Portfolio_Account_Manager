{
 "cells": [
  {
   "cell_type": "code",
   "execution_count": 1,
   "id": "617aef62-9801-49b8-99b3-608c2797cdff",
   "metadata": {},
   "outputs": [],
   "source": [
    "# Import the required libraries and dependencies\n",
    "import pandas as pd\n",
    "import requests\n",
    "import json"
   ]
  },
  {
   "cell_type": "code",
   "execution_count": 3,
   "id": "87d1a9b6-5446-4b6d-823f-080623e976c0",
   "metadata": {},
   "outputs": [
    {
     "name": "stdout",
     "output_type": "stream",
     "text": [
      "Sell’\n"
     ]
    }
   ],
   "source": [
    "# Set the endpoint for the API Gateway\n",
    "api_url = \"https://ux572yudpa.execute-api.us-west-2.amazonaws.com/Beta/traderecommendation\"\n",
    "\n",
    "# Set the payload variable to the lastest technical indicator values on which to base the recommendation.\n",
    "# Note: the placeholder model was trained on 2 indicators.\n",
    "payload = {'data':'16.2,40.6'}\n",
    "\n",
    "# Post the test data--a dictionary with data for the key and a comma-delimited set of predictors.\n",
    "response = requests.post(api_url,json=payload).json()\n",
    "\n",
    "print(response)\n"
   ]
  }
 ],
 "metadata": {
  "kernelspec": {
   "display_name": "Python (dev)",
   "language": "python",
   "name": "dev"
  },
  "language_info": {
   "codemirror_mode": {
    "name": "ipython",
    "version": 3
   },
   "file_extension": ".py",
   "mimetype": "text/x-python",
   "name": "python",
   "nbconvert_exporter": "python",
   "pygments_lexer": "ipython3",
   "version": "3.7.11"
  }
 },
 "nbformat": 4,
 "nbformat_minor": 5
}
